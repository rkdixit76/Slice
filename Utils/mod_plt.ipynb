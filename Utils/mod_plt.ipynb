{
 "cells": [
  {
   "cell_type": "code",
   "execution_count": 5,
   "metadata": {
    "collapsed": false
   },
   "outputs": [],
   "source": [
    "import matplotlib.pyplot as plt\n",
    "import mod_fitting"
   ]
  },
  {
   "cell_type": "code",
   "execution_count": 6,
   "metadata": {
    "collapsed": true
   },
   "outputs": [],
   "source": [
    "# Defaults for plots\n",
    "font_title_label = {'family': 'arial',\n",
    "        'color':  'black',\n",
    "        'weight': 'bold',\n",
    "        'size': 16,\n",
    "        }"
   ]
  },
  {
   "cell_type": "code",
   "execution_count": 7,
   "metadata": {
    "collapsed": false
   },
   "outputs": [],
   "source": [
    "def curve_fitplot(*fitparam,xv,yv,lbl,fhandle):\n",
    "    plt.figure(figsize=(15,7))\n",
    "    plt.plot(xv,yv,'ko', label=lbl)\n",
    "    plt.plot(xv,fhandle(xv, *fitparam),'r-', label=\"Fitted Curve\")\n",
    "    plt.legend()\n",
    "    plt.grid()"
   ]
  },
  {
   "cell_type": "code",
   "execution_count": 8,
   "metadata": {
    "collapsed": false
   },
   "outputs": [],
   "source": [
    "def single_xy_plot(data_x,data_y,leg_lbl,fsize):\n",
    "    fig, ax = plt.subplots(figsize=fsize)\n",
    "    ax.plot(data_x,data_y,label=leg_lbl)\n",
    "    ax.legend()\n",
    "    ax.grid()\n",
    "    "
   ]
  },
  {
   "cell_type": "code",
   "execution_count": 9,
   "metadata": {
    "collapsed": true
   },
   "outputs": [],
   "source": [
    "def dataframe_plot(df,fsize):\n",
    "    ax = df.plot(grid=True)\n",
    "    f = ax.get_figure()\n",
    "    f.set_size_inches(fsize)\n",
    "    "
   ]
  },
  {
   "cell_type": "code",
   "execution_count": 10,
   "metadata": {
    "collapsed": true
   },
   "outputs": [],
   "source": [
    "def frmt_plot(ttl='',xl='',yl='',fd=font_title_label,fsize=14):\n",
    "    plt.title(ttl,fontdict=fd)\n",
    "    plt.xlabel(xl,fontdict=fd)\n",
    "    plt.ylabel(yl,fontdict=fd)\n",
    "    plt.legend(fontsize=fsize)\n",
    "    plt.xticks(fontsize=fsize)\n",
    "    plt.yticks(fontsize=fsize)"
   ]
  },
  {
   "cell_type": "code",
   "execution_count": 11,
   "metadata": {
    "collapsed": false
   },
   "outputs": [],
   "source": [
    "def frmt_axis(ax,ttl='',xl='',yl='',fd=font_title_label,fsize=14):\n",
    "    ax.set_title(ttl,fontdict=fd)\n",
    "    ax.set_xlabel(xl,fontdict=fd)\n",
    "    ax.set_ylabel(yl,fontdict=fd)\n",
    "    ax.legend(fontsize=fsize)\n",
    "    for tick in ax.xaxis.get_major_ticks():\n",
    "        tick.label.set_fontsize(fsize)\n",
    "    for tick in ax.yaxis.get_major_ticks():\n",
    "        tick.label.set_fontsize(fsize)"
   ]
  },
  {
   "cell_type": "code",
   "execution_count": 6,
   "metadata": {
    "collapsed": false
   },
   "outputs": [],
   "source": [
    "def df_timestamp_todate_plot(df,fsize=(15,7),grid=True,kind='bar',lw=0,alpha=0.7,rot=90):\n",
    "    # Plot dataframe that has DateTimeIndex as a timestamp. Convert it to date from timestamp\n",
    "    set_xticks=False\n",
    "    if (kind=='line'):\n",
    "        if(lw==0): #Check line width param\n",
    "            lw=2\n",
    "        \n",
    "        set_xticks=True # Set xticks for line plot\n",
    "        \n",
    "    ax = df.plot(figsize=fsize,grid=grid,kind=kind,lw=lw,alpha=alpha,rot=rot);\n",
    "    if(set_xticks):\n",
    "        ax.set_xticks(df.index.date);\n",
    "    \n",
    "    ax.set_xticklabels(df.index.date);\n",
    "    "
   ]
  },
  {
   "cell_type": "code",
   "execution_count": 1,
   "metadata": {
    "collapsed": false
   },
   "outputs": [],
   "source": [
    "def std_plot(df,figsize=(30,10),pltkind='line',stkd=True,clrs=None,ttl=None,xl=None,yl=None,\\\n",
    "            conv_xaxis=False,xaxis_frmt='%b-%y',rot=0):\n",
    "    if (pltkind=='bar' or pltkind=='barh'):\n",
    "        if(clrs):\n",
    "            ax=df.plot(kind=pltkind,figsize=figsize,grid=True,lw=0,stacked=stkd,alpha=0.6,color=clrs,legend=True,rot=rot);\n",
    "        else:\n",
    "            ax=df.plot(kind=pltkind,figsize=figsize,grid=True,lw=0,stacked=stkd,alpha=0.6,legend=True,rot=rot);\n",
    "        \n",
    "        if(conv_xaxis):\n",
    "            ax.set_xticklabels(df.index.strftime(xaxis_frmt));\n",
    "   \n",
    "    elif pltkind=='line':\n",
    "        df.plot(kind=pltkind,figsize=figsize,grid=True,lw=2,rot=rot);\n",
    "        \n",
    "    frmt_plot(ttl=ttl,xl=xl,yl=yl);"
   ]
  },
  {
   "cell_type": "code",
   "execution_count": 6,
   "metadata": {
    "collapsed": true
   },
   "outputs": [],
   "source": [
    "def plt_multiple_df(df_list,legend_list,pltkind='line',figsize=(20,10),location='best',ttl='',xl='',yl=''):\n",
    "    # Function to plot multiple dataframes on one axis\n",
    "    if(pltkind=='line'):\n",
    "        idx=0\n",
    "        for df in df_list:\n",
    "            if(idx==0): #First plot\n",
    "                ax=df.plot(kind=pltkind,figsize=figsize,grid=True,lw=2);\n",
    "            else:\n",
    "                df.plot(ax=ax,kind=pltkind,figsize=figsize,grid=True,lw=2);\n",
    "            idx+=1\n",
    "    \n",
    "    frmt_axis(ax,ttl=ttl,xl=xl,yl=yl);\n",
    "    ax.legend(legend_list,loc=location); #Set the legend\n"
   ]
  }
 ],
 "metadata": {
  "kernelspec": {
   "display_name": "Python 3",
   "language": "python",
   "name": "python3"
  },
  "language_info": {
   "codemirror_mode": {
    "name": "ipython",
    "version": 3
   },
   "file_extension": ".py",
   "mimetype": "text/x-python",
   "name": "python",
   "nbconvert_exporter": "python",
   "pygments_lexer": "ipython3",
   "version": "3.5.1"
  }
 },
 "nbformat": 4,
 "nbformat_minor": 0
}
