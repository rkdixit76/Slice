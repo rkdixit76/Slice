{
 "cells": [
  {
   "cell_type": "code",
   "execution_count": 21,
   "metadata": {
    "collapsed": true
   },
   "outputs": [],
   "source": [
    "import matplotlib.pyplot as plt\n",
    "import mod_fitting"
   ]
  },
  {
   "cell_type": "code",
   "execution_count": 22,
   "metadata": {
    "collapsed": true
   },
   "outputs": [],
   "source": [
    "def curve_fitplot(*fitparam,xv,yv,lbl):\n",
    "    plt.figure(figsize=(15,7))\n",
    "    plt.plot(xv, yv, 'ko', label=lbl)\n",
    "    plt.plot(xv, mod_fitting.func(xv, *fitparam), 'r-', label=\"Fitted Curve\")\n",
    "    plt.legend()\n",
    "    plt.grid()"
   ]
  },
  {
   "cell_type": "code",
   "execution_count": 19,
   "metadata": {
    "collapsed": false
   },
   "outputs": [],
   "source": [
    "def single_xy_plot(data_x,data_y,leg_lbl,fsize):\n",
    "    fig, ax = plt.subplots(figsize=fsize)\n",
    "    ax.plot(data_x,data_y,label=leg_lbl)\n",
    "    ax.legend()\n",
    "    ax.grid()\n",
    "    "
   ]
  },
  {
   "cell_type": "code",
   "execution_count": 5,
   "metadata": {
    "collapsed": true
   },
   "outputs": [],
   "source": [
    "def dataframe_plot(df,fsize):\n",
    "    ax = df.plot(grid=True)\n",
    "    f = ax.get_figure()\n",
    "    f.set_size_inches(fsize)\n",
    "    "
   ]
  },
  {
   "cell_type": "code",
   "execution_count": 1,
   "metadata": {
    "collapsed": true
   },
   "outputs": [],
   "source": [
    "def frmt_plot(ttl='',xl='',yl='',fd='',fsize=14):\n",
    "    plt.title(ttl,fontdict=fd)\n",
    "    plt.xlabel(xl,fontdict=fd)\n",
    "    plt.ylabel(yl,fontdict=fd)\n",
    "    plt.legend(fontsize=fsize)\n",
    "    plt.xticks(fontsize=fsize)\n",
    "    plt.yticks(fontsize=fsize)"
   ]
  }
 ],
 "metadata": {
  "kernelspec": {
   "display_name": "Python 3",
   "language": "python",
   "name": "python3"
  },
  "language_info": {
   "codemirror_mode": {
    "name": "ipython",
    "version": 3
   },
   "file_extension": ".py",
   "mimetype": "text/x-python",
   "name": "python",
   "nbconvert_exporter": "python",
   "pygments_lexer": "ipython3",
   "version": "3.5.1"
  }
 },
 "nbformat": 4,
 "nbformat_minor": 0
}
