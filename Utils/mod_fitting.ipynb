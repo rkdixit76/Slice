{
 "cells": [
  {
   "cell_type": "code",
   "execution_count": 27,
   "metadata": {
    "collapsed": true
   },
   "outputs": [],
   "source": [
    "from scipy.optimize import curve_fit\n",
    "import numpy as np\n",
    "import mod_plt\n",
    "import importlib"
   ]
  },
  {
   "cell_type": "code",
   "execution_count": 28,
   "metadata": {
    "collapsed": false
   },
   "outputs": [
    {
     "data": {
      "text/plain": [
       "<module 'mod_plt' from '/Users/ravindra.dixit/Github/Slice/Utils/mod_plt.py'>"
      ]
     },
     "execution_count": 28,
     "metadata": {},
     "output_type": "execute_result"
    }
   ],
   "source": [
    "importlib.reload(mod_plt)"
   ]
  },
  {
   "cell_type": "code",
   "execution_count": 29,
   "metadata": {
    "collapsed": true
   },
   "outputs": [],
   "source": [
    "def func(x, a, b, c):  #For curve fitting\n",
    "    return a * np.exp(-b * x) + c"
   ]
  },
  {
   "cell_type": "code",
   "execution_count": 30,
   "metadata": {
    "collapsed": false
   },
   "outputs": [],
   "source": [
    "def one_by_x_sq(x,a,b):\n",
    "    return(a/np.sin((1/(b*x*np.pi/180)**0.5)))"
   ]
  },
  {
   "cell_type": "code",
   "execution_count": 31,
   "metadata": {
    "collapsed": true
   },
   "outputs": [],
   "source": [
    "def linear(x,a,b):\n",
    "    return(a*x+b)"
   ]
  },
  {
   "cell_type": "code",
   "execution_count": 33,
   "metadata": {
    "collapsed": true
   },
   "outputs": [],
   "source": [
    "def poly_2nd(x,a,b,c):\n",
    "    return(a*(x**2) + b*x + c)"
   ]
  },
  {
   "cell_type": "code",
   "execution_count": 34,
   "metadata": {
    "collapsed": true
   },
   "outputs": [],
   "source": [
    "def exp_growth(x,a,b):\n",
    "    # y = a*e^(b*x)\n",
    "    return(a*np.exp(b*x))"
   ]
  },
  {
   "cell_type": "code",
   "execution_count": 32,
   "metadata": {
    "collapsed": false
   },
   "outputs": [],
   "source": [
    "def curvefit(y,*guess_values,lbl,plt_enable=False,xd_act=np.arange(1,100,1),bnds=([0,0,0],[100,100,100]),fhandle=func):\n",
    "    xd = xd_act\n",
    "    yd=np.nan_to_num(y.values.astype('float64'))\n",
    "    \n",
    "    popt1, pcov1 = curve_fit(fhandle,xdata=xd,ydata=yd,p0=guess_values,bounds=bnds)\n",
    "    print('Equation coefficients:',popt1)\n",
    "    \n",
    "    if(plt_enable):\n",
    "        mod_plt.curve_fitplot(*popt1,xv=xd,yv=yd,lbl=lbl,fhandle=fhandle)\n",
    "    return((popt1,pcov1))"
   ]
  }
 ],
 "metadata": {
  "kernelspec": {
   "display_name": "Python 3",
   "language": "python",
   "name": "python3"
  },
  "language_info": {
   "codemirror_mode": {
    "name": "ipython",
    "version": 3
   },
   "file_extension": ".py",
   "mimetype": "text/x-python",
   "name": "python",
   "nbconvert_exporter": "python",
   "pygments_lexer": "ipython3",
   "version": "3.5.2"
  }
 },
 "nbformat": 4,
 "nbformat_minor": 0
}
