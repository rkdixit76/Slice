{
 "cells": [
  {
   "cell_type": "code",
   "execution_count": 1,
   "metadata": {
    "collapsed": true
   },
   "outputs": [],
   "source": [
    "import pandas as pd\n",
    "import numpy as np\n",
    "import datetime as dt\n",
    "import os\n",
    "import re"
   ]
  },
  {
   "cell_type": "code",
   "execution_count": 3,
   "metadata": {
    "collapsed": true
   },
   "outputs": [],
   "source": [
    "# FUNCTIONS\n",
    "\n",
    "def conv_curr_to_float(df,*bound):   #function for converting currency values to float\n",
    "    \n",
    "    df.ix[bound[0]:bound[1],bound[2]:bound[3]]=df.ix[bound[0]:bound[1],bound[2]:bound[3]]\\\n",
    "    .apply(lambda x: x.str.replace(r'[$,]','').astype(float)) #Convert to numbers\n",
    "    df.fillna(0,inplace=True)\n",
    "    \n",
    "\n",
    "def slice_data(*bound,rdata,hdr_row_idx,drp_hdr_row=False):      # Function for slicing data\n",
    "    s_data = rdata.ix[bound[0]:bound[1],bound[2]:bound[3]]\n",
    "    s_data.columns = rdata.ix[hdr_row_idx,bound[2]:bound[3]]\n",
    "    if(drp_hdr_row):\n",
    "        s_data.drop(hdr_row_idx,inplace=True)\n",
    "    s_data.reset_index(inplace=True,drop=True)\n",
    "    \n",
    "    return(s_data)\n",
    "\n",
    "def drp_rows(df,rows): #Drops a row\n",
    "    df.drop(df.index[rows],inplace=True)\n",
    "    df.reset_index(inplace=True,drop=True)\n",
    "    return(df)"
   ]
  },
  {
   "cell_type": "code",
   "execution_count": 7,
   "metadata": {
    "collapsed": false
   },
   "outputs": [],
   "source": [
    "def get_raw_data(fname,rst_col_idx=False,rst_row_idx=False,sht=0):\n",
    "    f,fext = os.path.splitext(fname)\n",
    "    \n",
    "    if fext in ['.csv']:\n",
    "        df = pd.read_csv(fname)\n",
    "    elif fext in ['.xls','.xlsx']:\n",
    "        df = pd.read_excel(fname,sheetname=sht)\n",
    "    \n",
    "    if(rst_col_idx): #Reset cols to 0..N indices\n",
    "        df.columns = np.arange(len(df.columns))\n",
    "    if(rst_row_idx): #Reset row indices\n",
    "        df.reset_index(inplace=True,drop=True)\n",
    "        \n",
    "    return(df)"
   ]
  },
  {
   "cell_type": "code",
   "execution_count": 4,
   "metadata": {
    "collapsed": true
   },
   "outputs": [],
   "source": [
    "def conv_colidx_datetime(df,frmt): #Returns list containing datetime values wherever possible\n",
    "    cols = df.columns.tolist()\n",
    "    col_dt = []\n",
    "    for item in cols:\n",
    "        try:\n",
    "            conv = pd.to_datetime(item.replace(' ',''),format=frmt)\n",
    "            col_dt.append(conv.date())\n",
    "        except:\n",
    "            col_dt.append(item)\n",
    "    df.columns = col_dt    "
   ]
  },
  {
   "cell_type": "code",
   "execution_count": 2,
   "metadata": {
    "collapsed": true
   },
   "outputs": [],
   "source": [
    "#Convert column to datetime\n",
    "def conv_str_to_datetime(df,col,str_col=True):\n",
    "    if(str_col):\n",
    "        df[col]=pd.to_datetime(df[col])\n",
    "    else:\n",
    "        df[col]=df[col].map(lambda x:pd.to_datetime(x) if isinstance(x,str) else x)\n",
    "    "
   ]
  },
  {
   "cell_type": "code",
   "execution_count": 6,
   "metadata": {
    "collapsed": false
   },
   "outputs": [],
   "source": [
    "def truncate_timestamp_colidx_todate(df):\n",
    "    for cl in df.columns:\n",
    "        if type(cl) == dt.datetime:\n",
    "            cl_date = dt.date(cl.year,cl.month,cl.day)\n",
    "            df.rename(columns={cl:cl_date},inplace=True)"
   ]
  },
  {
   "cell_type": "code",
   "execution_count": 10,
   "metadata": {
    "collapsed": true
   },
   "outputs": [],
   "source": [
    "#Parses data from complex column\n",
    "def arg_parser(arg,search_str):\n",
    "    try:\n",
    "        pat = '(?<='+search_str+'\":)\"(.*?)\"'\n",
    "        s = re.search(pat,arg).group(1)\n",
    "    except:\n",
    "        s=np.NaN\n",
    "    \n",
    "    return(s)\n",
    "\n",
    "def get_search_cols(data,search_string='',arg_column_name='',ret_cnt=False,to_numeric=True,to_date=False):\n",
    "    \n",
    "    sr_col = pd.DataFrame({search_string:data[arg_column_name]\\\n",
    "                                .apply(lambda x:arg_parser(x,search_string))})\n",
    "    sr_col.columns = [search_string]\n",
    "    if to_numeric:\n",
    "        sr_col[search_string] = pd.to_numeric(sr_col[search_string])\n",
    "    elif to_date:\n",
    "        sr_col[search_string] = pd.to_datetime(sr_col[search_string])\n",
    "    \n",
    "    if ret_cnt: #Add a count column and return. Helpful for series grouping or dataframes without numeric data\n",
    "        sr_col['Count'] = np.ones(len(sr_col))\n",
    "        \n",
    "    return(sr_col)"
   ]
  }
 ],
 "metadata": {
  "kernelspec": {
   "display_name": "Python 3",
   "language": "python",
   "name": "python3"
  },
  "language_info": {
   "codemirror_mode": {
    "name": "ipython",
    "version": 3
   },
   "file_extension": ".py",
   "mimetype": "text/x-python",
   "name": "python",
   "nbconvert_exporter": "python",
   "pygments_lexer": "ipython3",
   "version": "3.5.1"
  }
 },
 "nbformat": 4,
 "nbformat_minor": 0
}
