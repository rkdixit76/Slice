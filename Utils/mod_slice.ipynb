{
 "cells": [
  {
   "cell_type": "code",
   "execution_count": 1,
   "metadata": {
    "collapsed": true
   },
   "outputs": [],
   "source": [
    "import pandas as pd\n",
    "import numpy as np\n",
    "import datetime as dt\n",
    "import os\n",
    "import re"
   ]
  },
  {
   "cell_type": "code",
   "execution_count": 3,
   "metadata": {
    "collapsed": true
   },
   "outputs": [],
   "source": [
    "# FUNCTIONS\n",
    "\n",
    "def conv_curr_to_float(df,*bound):   #function for converting currency values to float\n",
    "    \n",
    "    df.ix[bound[0]:bound[1],bound[2]:bound[3]]=df.ix[bound[0]:bound[1],bound[2]:bound[3]]\\\n",
    "    .apply(lambda x: x.str.replace(r'[$,]','').astype(float)) #Convert to numbers\n",
    "    df.fillna(0,inplace=True)\n",
    "    \n",
    "\n",
    "def slice_data(*bound,rdata,hdr_row_idx,drp_hdr_row=False):      # Function for slicing data\n",
    "    s_data = rdata.ix[bound[0]:bound[1],bound[2]:bound[3]]\n",
    "    s_data.columns = rdata.ix[hdr_row_idx,bound[2]:bound[3]]\n",
    "    if(drp_hdr_row):\n",
    "        s_data.drop(hdr_row_idx,inplace=True)\n",
    "    s_data.reset_index(inplace=True,drop=True)\n",
    "    \n",
    "    return(s_data)\n",
    "\n",
    "def drp_rows(df,rows): #Drops a row\n",
    "    df.drop(df.index[rows],inplace=True)\n",
    "    df.reset_index(inplace=True,drop=True)\n",
    "    return(df)"
   ]
  },
  {
   "cell_type": "code",
   "execution_count": 1,
   "metadata": {
    "collapsed": false
   },
   "outputs": [],
   "source": [
    "def get_raw_data(fname,rst_col_idx=False,rst_row_idx=False,sht=0,pdate=False):\n",
    "    f,fext = os.path.splitext(fname)\n",
    "    \n",
    "    if fext in ['.csv']:\n",
    "        df = pd.read_csv(fname,low_memory=False,parse_dates=pdate,infer_datetime_format=True)\n",
    "    elif fext in ['.xls','.xlsx']:\n",
    "        df = pd.read_excel(fname,sheetname=sht)\n",
    "    \n",
    "    if(rst_col_idx): #Reset cols to 0..N indices\n",
    "        df.columns = np.arange(len(df.columns))\n",
    "    if(rst_row_idx): #Reset row indices\n",
    "        df.reset_index(inplace=True,drop=True)\n",
    "        \n",
    "    return(df)"
   ]
  },
  {
   "cell_type": "code",
   "execution_count": 5,
   "metadata": {
    "collapsed": true
   },
   "outputs": [],
   "source": [
    "def conv_colidx_datetime(df,frmt): #Returns list containing datetime values wherever possible\n",
    "    cols = df.columns.tolist()\n",
    "    col_dt = []\n",
    "    for item in cols:\n",
    "        try:\n",
    "            conv = pd.to_datetime(item.replace(' ',''),format=frmt)\n",
    "            col_dt.append(conv.date())\n",
    "        except:\n",
    "            col_dt.append(item)\n",
    "    df.columns = col_dt    "
   ]
  },
  {
   "cell_type": "code",
   "execution_count": 6,
   "metadata": {
    "collapsed": true
   },
   "outputs": [],
   "source": [
    "#Convert column to datetime\n",
    "def conv_str_to_datetime(df,col,str_col=True,conv_to_date=False):\n",
    "    if(str_col):\n",
    "        df[col]=pd.to_datetime(df[col])\n",
    "    else:\n",
    "        df[col]=df[col].map(lambda x:pd.to_datetime(x) if isinstance(x,str) else x)\n",
    "    \n",
    "#     if(conv_to_date):\n",
    "#         df[col] = df[col].apply(lambda)"
   ]
  },
  {
   "cell_type": "code",
   "execution_count": 7,
   "metadata": {
    "collapsed": false
   },
   "outputs": [],
   "source": [
    "def truncate_timestamp_colidx_todate(df):\n",
    "    for cl in df.columns:\n",
    "        if type(cl) == dt.datetime:\n",
    "            cl_date = dt.date(cl.year,cl.month,cl.day)\n",
    "            df.rename(columns={cl:cl_date},inplace=True)"
   ]
  },
  {
   "cell_type": "code",
   "execution_count": 8,
   "metadata": {
    "collapsed": true
   },
   "outputs": [],
   "source": [
    "#Parses data from complex column\n",
    "def arg_parser(arg,search_str):\n",
    "    try:\n",
    "        pat = '(?<='+search_str+'\":)\"(.*?)\"'\n",
    "        s = re.search(pat,arg).group(1)\n",
    "    except:\n",
    "        s=np.NaN\n",
    "    \n",
    "    return(s)\n",
    "\n",
    "def get_search_cols(data,search_string='',arg_column_name='',ret_cnt=False,to_numeric=True,to_date=False):\n",
    "    \n",
    "    sr_col = pd.DataFrame({search_string:data[arg_column_name]\\\n",
    "                                .apply(lambda x:arg_parser(x,search_string))})\n",
    "    sr_col.columns = [search_string]\n",
    "    if to_numeric:\n",
    "        sr_col[search_string] = pd.to_numeric(sr_col[search_string])\n",
    "    elif to_date:\n",
    "        sr_col[search_string] = pd.to_datetime(sr_col[search_string])\n",
    "    \n",
    "    if ret_cnt: #Add a count column and return. Helpful for series grouping or dataframes without numeric data\n",
    "        sr_col['Count'] = np.ones(len(sr_col))\n",
    "        \n",
    "    return(sr_col)"
   ]
  },
  {
   "cell_type": "code",
   "execution_count": 12,
   "metadata": {
    "collapsed": false
   },
   "outputs": [],
   "source": [
    "def get_combined_hist_dates(df,dt_colname,dt_range,tgt_colname,grp_colname='user_id',bin_range=np.arange(1,11,1)):\n",
    "    \n",
    "    b_range_temp = np.append(bin_range,bin_range[len(bin_range)-1]+1)\n",
    "    hist_df = pd.DataFrame(np.zeros(len(bin_range)),index=bin_range,columns=['freq'])\n",
    "    num_records = (dt_range.max()-dt_range.min()).days+1\n",
    "    for for_date in dt_range:\n",
    "    \n",
    "        hist_freq,bin_edges = np.histogram(df[df[dt_colname]==for_date][[grp_colname,tgt_colname]].\\\n",
    "                             groupby(grp_colname).sum(),bins=b_range_temp)\n",
    "        hist_df['freq'] = hist_df['freq'] + hist_freq\n",
    "    hist_df['freq'] = hist_df['freq']/num_records\n",
    "\n",
    "    return(hist_df)"
   ]
  },
  {
   "cell_type": "code",
   "execution_count": null,
   "metadata": {
    "collapsed": true
   },
   "outputs": [],
   "source": [
    "def cat_df_cols(df,col_list):\n",
    "    for col in col_list:\n",
    "        df[col] = df[col].astype('category')"
   ]
  },
  {
   "cell_type": "code",
   "execution_count": 6,
   "metadata": {
    "collapsed": true
   },
   "outputs": [],
   "source": [
    "def save_to_hdfs(fpath,rst_col_idx=False,rst_row_idx=False,sht=0,pdate=False,append=True):\n",
    "    raw_data = get_raw_data(fpath,rst_col_idx=rst_col_idx,rst_row_idx=rst_row_idx,sht=sht,pdate=pdate)\n",
    "    hdfs_fp,ext = os.path.splitext(fpath)\n",
    "    hdfs_fp = hdfs_fp+'.h5'\n",
    "    raw_data.to_hdf(hdfs_fp,'table',append=append)\n",
    "    "
   ]
  },
  {
   "cell_type": "code",
   "execution_count": 1,
   "metadata": {
    "collapsed": true
   },
   "outputs": [],
   "source": [
    "def str_to_numeric(df,cols,dtp,replace_strs):\n",
    "    for col in cols:\n",
    "        for s in replace_strs:\n",
    "            df[col] = df[col].replace(s,'',regex=True)\n",
    "        df[col] = df[col].astype(dtp)"
   ]
  }
 ],
 "metadata": {
  "kernelspec": {
   "display_name": "Python 3",
   "language": "python",
   "name": "python3"
  },
  "language_info": {
   "codemirror_mode": {
    "name": "ipython",
    "version": 3
   },
   "file_extension": ".py",
   "mimetype": "text/x-python",
   "name": "python",
   "nbconvert_exporter": "python",
   "pygments_lexer": "ipython3",
   "version": "3.5.1"
  }
 },
 "nbformat": 4,
 "nbformat_minor": 0
}
